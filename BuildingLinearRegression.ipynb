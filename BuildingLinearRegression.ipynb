{
  "nbformat": 4,
  "nbformat_minor": 0,
  "metadata": {
    "colab": {
      "provenance": [],
      "authorship_tag": "ABX9TyM7mMRmt1W7v2L0uA5vhU54",
      "include_colab_link": true
    },
    "kernelspec": {
      "name": "python3",
      "display_name": "Python 3"
    },
    "language_info": {
      "name": "python"
    }
  },
  "cells": [
    {
      "cell_type": "markdown",
      "metadata": {
        "id": "view-in-github",
        "colab_type": "text"
      },
      "source": [
        "<a href=\"https://colab.research.google.com/github/mainak8967/MACHINE_LEARNING/blob/main/BuildingLinearRegression.ipynb\" target=\"_parent\"><img src=\"https://colab.research.google.com/assets/colab-badge.svg\" alt=\"Open In Colab\"/></a>"
      ]
    },
    {
      "cell_type": "markdown",
      "source": [
        "\n",
        "\n",
        "Linear Regression:\n",
        "\n",
        "Y = wX + b\n",
        "\n",
        "Y --> Dependent Variable\n",
        "\n",
        "X --> Independent Variable\n",
        "\n",
        "w --> weight\n",
        "\n",
        "b --> bias\n",
        "\n",
        "Gradient Descent:\n",
        "\n",
        "Gradient Descent is an optimization algorithm used for minimizing the loss function in various machine learning algorithms. It is used for updating the parameters of the learning model.\n",
        "\n",
        "w = w - α*dw\n",
        "\n",
        "b = b - α*db\n",
        "\n",
        "Learning Rate:\n",
        "\n",
        "Learning rate is a tuning parameter in an optimization algorithm that determines the step size at each iteration while moving toward a minimum of a loss function.\n",
        "\n",
        "\n",
        "\n",
        "\n"
      ],
      "metadata": {
        "id": "VCEOFWZr92KB"
      }
    },
    {
      "cell_type": "code",
      "execution_count": null,
      "metadata": {
        "id": "h6TYqNyP4JhL"
      },
      "outputs": [],
      "source": [
        "import numpy as np\n"
      ]
    },
    {
      "cell_type": "markdown",
      "source": [
        "Linear Regression"
      ],
      "metadata": {
        "id": "D1iK0bVE4Q-Q"
      }
    },
    {
      "cell_type": "code",
      "source": [
        "class Linear_Regression:\n",
        "#initialising the parameters\n",
        "   def _init_(self,learning_rate,no_of_iterations):\n",
        "     self.learning_rate=learning_rate\n",
        "     self.no_of_iterations=no_of_iterations\n",
        "\n",
        "#x=input, y=output\n",
        "     def fit(self,x,y):\n",
        "       #no of training examples and no of features(no. of x)\n",
        "       self.m,self.n=x.shape #no. of rows(data points),no. of columns(features)(m != slope,y=Wx+B)\n",
        "       #initiating weight and bias\n",
        "       self.w=np.zeros(self.n)\n",
        "       self.b=0\n",
        "       #now why weight is in form of array and b is single value? \n",
        "       #since eqn can be of type:y= W1.x1 +W2.x2+..... +b (more than one feature so more than one weight)\n",
        "       self.x=x\n",
        "       self.y=y\n",
        "\n",
        "       #implementing gradient descent\n",
        "       for i in range(self.no_of_iterations):\n",
        "         self.update_weights()        \n",
        "\n",
        "\n",
        "\n",
        "       def update_weights(self,):\n",
        "         y_prediction=self.predict(self.x)\n",
        "\n",
        "          # calculate gradients\n",
        "\n",
        "          dw = - (2 * (self.X.T).dot(self.Y - Y_prediction)) / self.m\n",
        "\n",
        "          db = - 2 * np.sum(self.Y - Y_prediction)/self.m\n",
        "\n",
        "           # upadating the weights\n",
        "    \n",
        "           self.w = self.w - self.learning_rate*dw\n",
        "           self.b = selb.b - self.learning_rate*db\n",
        "\n",
        "\n",
        "         def predict(self,x):\n",
        "           return x.dot(self.w)+self.b # x is a vector ,to get w1x1+w1x2+... , dot product is dn"
      ],
      "metadata": {
        "id": "ureYU01d4TcA"
      },
      "execution_count": null,
      "outputs": []
    },
    {
      "cell_type": "code",
      "source": [],
      "metadata": {
        "id": "6v4hAOBy5cV2"
      },
      "execution_count": null,
      "outputs": []
    }
  ]
}