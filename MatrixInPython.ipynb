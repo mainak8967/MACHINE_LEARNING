{
  "nbformat": 4,
  "nbformat_minor": 0,
  "metadata": {
    "colab": {
      "provenance": [],
      "authorship_tag": "ABX9TyOQrofHx3dEUFzySUQWpm30",
      "include_colab_link": true
    },
    "kernelspec": {
      "name": "python3",
      "display_name": "Python 3"
    },
    "language_info": {
      "name": "python"
    }
  },
  "cells": [
    {
      "cell_type": "markdown",
      "metadata": {
        "id": "view-in-github",
        "colab_type": "text"
      },
      "source": [
        "<a href=\"https://colab.research.google.com/github/mainak8967/MACHINE_LEARNING/blob/main/MatrixInPython.ipynb\" target=\"_parent\"><img src=\"https://colab.research.google.com/assets/colab-badge.svg\" alt=\"Open In Colab\"/></a>"
      ]
    },
    {
      "cell_type": "code",
      "execution_count": 1,
      "metadata": {
        "id": "kAAlctMhHNra"
      },
      "outputs": [],
      "source": [
        "import numpy as np\n"
      ]
    },
    {
      "cell_type": "code",
      "source": [
        "#Creating Matrix using array"
      ],
      "metadata": {
        "id": "mJmP6pXqHs9N"
      },
      "execution_count": 2,
      "outputs": []
    },
    {
      "cell_type": "code",
      "source": [
        "matrix_1=np.asarray([[2,3],[4,6]])"
      ],
      "metadata": {
        "id": "YHeP1I4BHgyc"
      },
      "execution_count": 3,
      "outputs": []
    },
    {
      "cell_type": "code",
      "source": [
        "matrix_1"
      ],
      "metadata": {
        "colab": {
          "base_uri": "https://localhost:8080/"
        },
        "id": "dBAkjVDiH-bc",
        "outputId": "3d54f51f-d47b-4f0a-bd37-eb53e51e8b7d"
      },
      "execution_count": 4,
      "outputs": [
        {
          "output_type": "execute_result",
          "data": {
            "text/plain": [
              "array([[2, 3],\n",
              "       [4, 6]])"
            ]
          },
          "metadata": {},
          "execution_count": 4
        }
      ]
    },
    {
      "cell_type": "code",
      "source": [
        "matrix_1.shape"
      ],
      "metadata": {
        "colab": {
          "base_uri": "https://localhost:8080/"
        },
        "id": "yPvLMaQTH_jM",
        "outputId": "a293bc8e-dd90-46c3-fbd3-40b6d1ccade4"
      },
      "execution_count": 5,
      "outputs": [
        {
          "output_type": "execute_result",
          "data": {
            "text/plain": [
              "(2, 2)"
            ]
          },
          "metadata": {},
          "execution_count": 5
        }
      ]
    },
    {
      "cell_type": "code",
      "source": [
        "matrix_2=np.array([[10,20,30],[2,3,4],[5,6,7]])\n",
        "matrix_2"
      ],
      "metadata": {
        "colab": {
          "base_uri": "https://localhost:8080/"
        },
        "id": "LwAOxcOpILBN",
        "outputId": "76f27a1c-a988-4da4-e570-690b8b4eb7ef"
      },
      "execution_count": 7,
      "outputs": [
        {
          "output_type": "execute_result",
          "data": {
            "text/plain": [
              "array([[10, 20, 30],\n",
              "       [ 2,  3,  4],\n",
              "       [ 5,  6,  7]])"
            ]
          },
          "metadata": {},
          "execution_count": 7
        }
      ]
    },
    {
      "cell_type": "code",
      "source": [
        "matrix_2.shape"
      ],
      "metadata": {
        "colab": {
          "base_uri": "https://localhost:8080/"
        },
        "id": "EhmbxqZ-InvU",
        "outputId": "6df7f353-14d4-4902-f639-0cc8d54e1c4e"
      },
      "execution_count": 8,
      "outputs": [
        {
          "output_type": "execute_result",
          "data": {
            "text/plain": [
              "(3, 3)"
            ]
          },
          "metadata": {},
          "execution_count": 8
        }
      ]
    },
    {
      "cell_type": "markdown",
      "source": [
        "Creating Matrix With random values"
      ],
      "metadata": {
        "id": "t1KR2pM7Iuwc"
      }
    },
    {
      "cell_type": "code",
      "source": [
        "random_matrix=np.random.rand(3,3)\n",
        "random_matrix"
      ],
      "metadata": {
        "colab": {
          "base_uri": "https://localhost:8080/"
        },
        "id": "MsIlLZCLIsaM",
        "outputId": "a279e2e7-30b7-48dc-a968-82f022d080c0"
      },
      "execution_count": 9,
      "outputs": [
        {
          "output_type": "execute_result",
          "data": {
            "text/plain": [
              "array([[0.16698378, 0.89330547, 0.13838827],\n",
              "       [0.7463804 , 0.26115583, 0.52711293],\n",
              "       [0.73762123, 0.03763668, 0.02337359]])"
            ]
          },
          "metadata": {},
          "execution_count": 9
        }
      ]
    },
    {
      "cell_type": "code",
      "source": [
        "#creating matrix with random integers\n",
        "r=np.random.randint(100,size=(4,5))#x is from 0 to 100-1\n",
        "r"
      ],
      "metadata": {
        "colab": {
          "base_uri": "https://localhost:8080/"
        },
        "id": "6TxzPpGnI-sL",
        "outputId": "70661f4b-1274-45e0-9f77-3d470f434fdf"
      },
      "execution_count": 10,
      "outputs": [
        {
          "output_type": "execute_result",
          "data": {
            "text/plain": [
              "array([[ 4, 74, 99, 44, 57],\n",
              "       [98, 25, 50, 53, 14],\n",
              "       [30, 16, 33, 82, 46],\n",
              "       [88,  6, 44, 21, 86]])"
            ]
          },
          "metadata": {},
          "execution_count": 10
        }
      ]
    },
    {
      "cell_type": "markdown",
      "source": [
        "Matrix with all values as 1"
      ],
      "metadata": {
        "id": "A1bST6P_JbIk"
      }
    },
    {
      "cell_type": "code",
      "source": [
        "matrix_3=np.ones((2,3))\n",
        "matrix_3"
      ],
      "metadata": {
        "colab": {
          "base_uri": "https://localhost:8080/"
        },
        "id": "mOMcZ4QNJeHM",
        "outputId": "9def2984-20c1-441d-e75b-343ee172829f"
      },
      "execution_count": 11,
      "outputs": [
        {
          "output_type": "execute_result",
          "data": {
            "text/plain": [
              "array([[1., 1., 1.],\n",
              "       [1., 1., 1.]])"
            ]
          },
          "metadata": {},
          "execution_count": 11
        }
      ]
    },
    {
      "cell_type": "code",
      "source": [
        "#the values were of float type gotcha convert to int\n",
        "matrix_3=np.ones((2,3),dtype=int)\n",
        "matrix_3"
      ],
      "metadata": {
        "colab": {
          "base_uri": "https://localhost:8080/"
        },
        "id": "uaVm3JPVJlfE",
        "outputId": "09796555-62d2-4c89-d3e1-a90c182961b4"
      },
      "execution_count": 12,
      "outputs": [
        {
          "output_type": "execute_result",
          "data": {
            "text/plain": [
              "array([[1, 1, 1],\n",
              "       [1, 1, 1]])"
            ]
          },
          "metadata": {},
          "execution_count": 12
        }
      ]
    },
    {
      "cell_type": "markdown",
      "source": [
        "Null Matrix"
      ],
      "metadata": {
        "id": "95IcTxrAJ6Ws"
      }
    },
    {
      "cell_type": "code",
      "source": [
        "null_matrix=np.zeros((4,4))\n",
        "null_matrix"
      ],
      "metadata": {
        "colab": {
          "base_uri": "https://localhost:8080/"
        },
        "id": "5QkQd7kJJ3fs",
        "outputId": "96d1d766-e382-4225-9fc4-4b98d0e451d3"
      },
      "execution_count": 14,
      "outputs": [
        {
          "output_type": "execute_result",
          "data": {
            "text/plain": [
              "array([[0., 0., 0., 0.],\n",
              "       [0., 0., 0., 0.],\n",
              "       [0., 0., 0., 0.],\n",
              "       [0., 0., 0., 0.]])"
            ]
          },
          "metadata": {},
          "execution_count": 14
        }
      ]
    },
    {
      "cell_type": "markdown",
      "source": [
        "Identity Matrix"
      ],
      "metadata": {
        "id": "q0FaTTv1KGj0"
      }
    },
    {
      "cell_type": "code",
      "source": [
        "identity_matrix=np.eye(3,3)\n",
        "identity_matrix"
      ],
      "metadata": {
        "colab": {
          "base_uri": "https://localhost:8080/"
        },
        "id": "aOJvzQENKCE8",
        "outputId": "034bbb76-3456-48a9-8ea8-c36e94e6d4b1"
      },
      "execution_count": 15,
      "outputs": [
        {
          "output_type": "execute_result",
          "data": {
            "text/plain": [
              "array([[1., 0., 0.],\n",
              "       [0., 1., 0.],\n",
              "       [0., 0., 1.]])"
            ]
          },
          "metadata": {},
          "execution_count": 15
        }
      ]
    },
    {
      "cell_type": "markdown",
      "source": [
        "Transpose of a Matrix"
      ],
      "metadata": {
        "id": "gsH0DDsbLXWc"
      }
    },
    {
      "cell_type": "code",
      "source": [
        "a=np.random.randint(10,size=(2,3))\n",
        "a"
      ],
      "metadata": {
        "colab": {
          "base_uri": "https://localhost:8080/"
        },
        "id": "Cg6FsAEyLUIk",
        "outputId": "0731709d-fe2c-482a-cf23-bf8d9b6d28ed"
      },
      "execution_count": 16,
      "outputs": [
        {
          "output_type": "execute_result",
          "data": {
            "text/plain": [
              "array([[4, 8, 3],\n",
              "       [2, 5, 2]])"
            ]
          },
          "metadata": {},
          "execution_count": 16
        }
      ]
    },
    {
      "cell_type": "code",
      "source": [
        "b=np.transpose(a)\n",
        "b"
      ],
      "metadata": {
        "colab": {
          "base_uri": "https://localhost:8080/"
        },
        "id": "Q683zo1ALhes",
        "outputId": "372271d8-61d1-4f37-aa33-4a6adede1218"
      },
      "execution_count": 17,
      "outputs": [
        {
          "output_type": "execute_result",
          "data": {
            "text/plain": [
              "array([[4, 2],\n",
              "       [8, 5],\n",
              "       [3, 2]])"
            ]
          },
          "metadata": {},
          "execution_count": 17
        }
      ]
    },
    {
      "cell_type": "code",
      "source": [
        "b.shape"
      ],
      "metadata": {
        "colab": {
          "base_uri": "https://localhost:8080/"
        },
        "id": "mbhtyLwULoe1",
        "outputId": "ff0c742d-52c8-4157-d18f-0fe9c3dabce9"
      },
      "execution_count": 18,
      "outputs": [
        {
          "output_type": "execute_result",
          "data": {
            "text/plain": [
              "(3, 2)"
            ]
          },
          "metadata": {},
          "execution_count": 18
        }
      ]
    },
    {
      "cell_type": "markdown",
      "source": [
        "Matrix Addition-only possible for two similar matrices(same size)"
      ],
      "metadata": {
        "id": "tyLwjQEZLvWL"
      }
    },
    {
      "cell_type": "code",
      "source": [
        "a+matrix_3"
      ],
      "metadata": {
        "colab": {
          "base_uri": "https://localhost:8080/"
        },
        "id": "6xIuAdojLrXc",
        "outputId": "d15514f9-f93f-4832-99ed-29913d74938b"
      },
      "execution_count": 21,
      "outputs": [
        {
          "output_type": "execute_result",
          "data": {
            "text/plain": [
              "array([[5, 9, 4],\n",
              "       [3, 6, 3]])"
            ]
          },
          "metadata": {},
          "execution_count": 21
        }
      ]
    },
    {
      "cell_type": "code",
      "source": [
        "#a+b will be erronius"
      ],
      "metadata": {
        "id": "gT2u7DgSMql0"
      },
      "execution_count": 22,
      "outputs": []
    },
    {
      "cell_type": "markdown",
      "source": [
        "Matrix Subtraction for similar matrices"
      ],
      "metadata": {
        "id": "X5AHhltSNFLt"
      }
    },
    {
      "cell_type": "code",
      "source": [
        "a-matrix_3"
      ],
      "metadata": {
        "colab": {
          "base_uri": "https://localhost:8080/"
        },
        "id": "B8KM3P3BMxRz",
        "outputId": "59ed62d1-78c7-4c79-a676-29579cc4f85e"
      },
      "execution_count": 23,
      "outputs": [
        {
          "output_type": "execute_result",
          "data": {
            "text/plain": [
              "array([[3, 7, 2],\n",
              "       [1, 4, 1]])"
            ]
          },
          "metadata": {},
          "execution_count": 23
        }
      ]
    },
    {
      "cell_type": "markdown",
      "source": [
        "Multiplication of matrix with scalar"
      ],
      "metadata": {
        "id": "vUydTj2wNUCM"
      }
    },
    {
      "cell_type": "code",
      "source": [
        "3*a"
      ],
      "metadata": {
        "colab": {
          "base_uri": "https://localhost:8080/"
        },
        "id": "EYh_NJeGNJQb",
        "outputId": "1e1c0c2c-5016-4a8f-82dc-b9d1622b03d5"
      },
      "execution_count": 24,
      "outputs": [
        {
          "output_type": "execute_result",
          "data": {
            "text/plain": [
              "array([[12, 24,  9],\n",
              "       [ 6, 15,  6]])"
            ]
          },
          "metadata": {},
          "execution_count": 24
        }
      ]
    },
    {
      "cell_type": "code",
      "source": [
        "np.multiply(a,3)"
      ],
      "metadata": {
        "colab": {
          "base_uri": "https://localhost:8080/"
        },
        "id": "f6Xz38jTNYmz",
        "outputId": "1b5d9166-8652-400b-cb87-11dce446b7b3"
      },
      "execution_count": 25,
      "outputs": [
        {
          "output_type": "execute_result",
          "data": {
            "text/plain": [
              "array([[12, 24,  9],\n",
              "       [ 6, 15,  6]])"
            ]
          },
          "metadata": {},
          "execution_count": 25
        }
      ]
    },
    {
      "cell_type": "markdown",
      "source": [
        "Multiplication of matrix with another compatible matrix"
      ],
      "metadata": {
        "id": "qJ3GMvyQNi7j"
      }
    },
    {
      "cell_type": "code",
      "source": [
        "p=np.dot(a,b)\n",
        "p"
      ],
      "metadata": {
        "colab": {
          "base_uri": "https://localhost:8080/"
        },
        "id": "pt8hSDL0Nhes",
        "outputId": "643c372d-4fa6-466e-dab9-ab69fc9acde5"
      },
      "execution_count": 29,
      "outputs": [
        {
          "output_type": "execute_result",
          "data": {
            "text/plain": [
              "array([[89, 54],\n",
              "       [54, 33]])"
            ]
          },
          "metadata": {},
          "execution_count": 29
        }
      ]
    },
    {
      "cell_type": "code",
      "source": [
        "p.shape"
      ],
      "metadata": {
        "colab": {
          "base_uri": "https://localhost:8080/"
        },
        "id": "BnbVqvfyNp2j",
        "outputId": "8aa28f4f-78c6-479c-d015-6b81a7fb7f1d"
      },
      "execution_count": 30,
      "outputs": [
        {
          "output_type": "execute_result",
          "data": {
            "text/plain": [
              "(2, 2)"
            ]
          },
          "metadata": {},
          "execution_count": 30
        }
      ]
    },
    {
      "cell_type": "code",
      "source": [],
      "metadata": {
        "id": "63dfz5A3N_GD"
      },
      "execution_count": null,
      "outputs": []
    }
  ]
}