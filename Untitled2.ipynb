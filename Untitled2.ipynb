{
  "nbformat": 4,
  "nbformat_minor": 0,
  "metadata": {
    "colab": {
      "provenance": []
    },
    "kernelspec": {
      "name": "python3",
      "display_name": "Python 3"
    },
    "language_info": {
      "name": "python"
    }
  },
  "cells": [
    {
      "cell_type": "code",
      "execution_count": 29,
      "metadata": {
        "id": "G5wLtJrcM2Kp"
      },
      "outputs": [],
      "source": [
        "import numpy as np\n",
        "import pandas as pd\n",
        "from sklearn.model_selection import train_test_split\n",
        "from sklearn import linear_model"
      ]
    },
    {
      "cell_type": "code",
      "source": [
        "data =pd.read_csv('/content/student-mat.csv',sep=';')\n",
        "print( data.head())\n"
      ],
      "metadata": {
        "colab": {
          "base_uri": "https://localhost:8080/"
        },
        "id": "nXorD5nRPXnF",
        "outputId": "610c2fd7-08eb-4da8-8279-ea26b5bec81c"
      },
      "execution_count": 4,
      "outputs": [
        {
          "output_type": "stream",
          "name": "stdout",
          "text": [
            "  school sex  age address famsize Pstatus  Medu  Fedu     Mjob      Fjob  ...  \\\n",
            "0     GP   F   18       U     GT3       A     4     4  at_home   teacher  ...   \n",
            "1     GP   F   17       U     GT3       T     1     1  at_home     other  ...   \n",
            "2     GP   F   15       U     LE3       T     1     1  at_home     other  ...   \n",
            "3     GP   F   15       U     GT3       T     4     2   health  services  ...   \n",
            "4     GP   F   16       U     GT3       T     3     3    other     other  ...   \n",
            "\n",
            "  famrel freetime  goout  Dalc  Walc health absences  G1  G2  G3  \n",
            "0      4        3      4     1     1      3        6   5   6   6  \n",
            "1      5        3      3     1     1      3        4   5   5   6  \n",
            "2      4        3      2     2     3      3       10   7   8  10  \n",
            "3      3        2      2     1     1      5        2  15  14  15  \n",
            "4      4        3      2     1     2      5        4   6  10  10  \n",
            "\n",
            "[5 rows x 33 columns]\n"
          ]
        }
      ]
    },
    {
      "cell_type": "code",
      "source": [
        "data =data[['G1','G2','G3','studytime','failures','absences']]"
      ],
      "metadata": {
        "id": "OjTsDiWBPh71"
      },
      "execution_count": 9,
      "outputs": []
    },
    {
      "cell_type": "code",
      "source": [
        "data"
      ],
      "metadata": {
        "colab": {
          "base_uri": "https://localhost:8080/",
          "height": 424
        },
        "id": "XEeGzEYPQTKd",
        "outputId": "40e3a89b-6d05-49f4-8f33-399e87180ce6"
      },
      "execution_count": 10,
      "outputs": [
        {
          "output_type": "execute_result",
          "data": {
            "text/plain": [
              "     G1  G2  G3  studytime  failures  absences\n",
              "0     5   6   6          2         0         6\n",
              "1     5   5   6          2         0         4\n",
              "2     7   8  10          2         3        10\n",
              "3    15  14  15          3         0         2\n",
              "4     6  10  10          2         0         4\n",
              "..   ..  ..  ..        ...       ...       ...\n",
              "390   9   9   9          2         2        11\n",
              "391  14  16  16          1         0         3\n",
              "392  10   8   7          1         3         3\n",
              "393  11  12  10          1         0         0\n",
              "394   8   9   9          1         0         5\n",
              "\n",
              "[395 rows x 6 columns]"
            ],
            "text/html": [
              "\n",
              "  <div id=\"df-eb472a7c-6c60-4bc3-ba8a-293908ae1a3d\">\n",
              "    <div class=\"colab-df-container\">\n",
              "      <div>\n",
              "<style scoped>\n",
              "    .dataframe tbody tr th:only-of-type {\n",
              "        vertical-align: middle;\n",
              "    }\n",
              "\n",
              "    .dataframe tbody tr th {\n",
              "        vertical-align: top;\n",
              "    }\n",
              "\n",
              "    .dataframe thead th {\n",
              "        text-align: right;\n",
              "    }\n",
              "</style>\n",
              "<table border=\"1\" class=\"dataframe\">\n",
              "  <thead>\n",
              "    <tr style=\"text-align: right;\">\n",
              "      <th></th>\n",
              "      <th>G1</th>\n",
              "      <th>G2</th>\n",
              "      <th>G3</th>\n",
              "      <th>studytime</th>\n",
              "      <th>failures</th>\n",
              "      <th>absences</th>\n",
              "    </tr>\n",
              "  </thead>\n",
              "  <tbody>\n",
              "    <tr>\n",
              "      <th>0</th>\n",
              "      <td>5</td>\n",
              "      <td>6</td>\n",
              "      <td>6</td>\n",
              "      <td>2</td>\n",
              "      <td>0</td>\n",
              "      <td>6</td>\n",
              "    </tr>\n",
              "    <tr>\n",
              "      <th>1</th>\n",
              "      <td>5</td>\n",
              "      <td>5</td>\n",
              "      <td>6</td>\n",
              "      <td>2</td>\n",
              "      <td>0</td>\n",
              "      <td>4</td>\n",
              "    </tr>\n",
              "    <tr>\n",
              "      <th>2</th>\n",
              "      <td>7</td>\n",
              "      <td>8</td>\n",
              "      <td>10</td>\n",
              "      <td>2</td>\n",
              "      <td>3</td>\n",
              "      <td>10</td>\n",
              "    </tr>\n",
              "    <tr>\n",
              "      <th>3</th>\n",
              "      <td>15</td>\n",
              "      <td>14</td>\n",
              "      <td>15</td>\n",
              "      <td>3</td>\n",
              "      <td>0</td>\n",
              "      <td>2</td>\n",
              "    </tr>\n",
              "    <tr>\n",
              "      <th>4</th>\n",
              "      <td>6</td>\n",
              "      <td>10</td>\n",
              "      <td>10</td>\n",
              "      <td>2</td>\n",
              "      <td>0</td>\n",
              "      <td>4</td>\n",
              "    </tr>\n",
              "    <tr>\n",
              "      <th>...</th>\n",
              "      <td>...</td>\n",
              "      <td>...</td>\n",
              "      <td>...</td>\n",
              "      <td>...</td>\n",
              "      <td>...</td>\n",
              "      <td>...</td>\n",
              "    </tr>\n",
              "    <tr>\n",
              "      <th>390</th>\n",
              "      <td>9</td>\n",
              "      <td>9</td>\n",
              "      <td>9</td>\n",
              "      <td>2</td>\n",
              "      <td>2</td>\n",
              "      <td>11</td>\n",
              "    </tr>\n",
              "    <tr>\n",
              "      <th>391</th>\n",
              "      <td>14</td>\n",
              "      <td>16</td>\n",
              "      <td>16</td>\n",
              "      <td>1</td>\n",
              "      <td>0</td>\n",
              "      <td>3</td>\n",
              "    </tr>\n",
              "    <tr>\n",
              "      <th>392</th>\n",
              "      <td>10</td>\n",
              "      <td>8</td>\n",
              "      <td>7</td>\n",
              "      <td>1</td>\n",
              "      <td>3</td>\n",
              "      <td>3</td>\n",
              "    </tr>\n",
              "    <tr>\n",
              "      <th>393</th>\n",
              "      <td>11</td>\n",
              "      <td>12</td>\n",
              "      <td>10</td>\n",
              "      <td>1</td>\n",
              "      <td>0</td>\n",
              "      <td>0</td>\n",
              "    </tr>\n",
              "    <tr>\n",
              "      <th>394</th>\n",
              "      <td>8</td>\n",
              "      <td>9</td>\n",
              "      <td>9</td>\n",
              "      <td>1</td>\n",
              "      <td>0</td>\n",
              "      <td>5</td>\n",
              "    </tr>\n",
              "  </tbody>\n",
              "</table>\n",
              "<p>395 rows × 6 columns</p>\n",
              "</div>\n",
              "      <button class=\"colab-df-convert\" onclick=\"convertToInteractive('df-eb472a7c-6c60-4bc3-ba8a-293908ae1a3d')\"\n",
              "              title=\"Convert this dataframe to an interactive table.\"\n",
              "              style=\"display:none;\">\n",
              "        \n",
              "  <svg xmlns=\"http://www.w3.org/2000/svg\" height=\"24px\"viewBox=\"0 0 24 24\"\n",
              "       width=\"24px\">\n",
              "    <path d=\"M0 0h24v24H0V0z\" fill=\"none\"/>\n",
              "    <path d=\"M18.56 5.44l.94 2.06.94-2.06 2.06-.94-2.06-.94-.94-2.06-.94 2.06-2.06.94zm-11 1L8.5 8.5l.94-2.06 2.06-.94-2.06-.94L8.5 2.5l-.94 2.06-2.06.94zm10 10l.94 2.06.94-2.06 2.06-.94-2.06-.94-.94-2.06-.94 2.06-2.06.94z\"/><path d=\"M17.41 7.96l-1.37-1.37c-.4-.4-.92-.59-1.43-.59-.52 0-1.04.2-1.43.59L10.3 9.45l-7.72 7.72c-.78.78-.78 2.05 0 2.83L4 21.41c.39.39.9.59 1.41.59.51 0 1.02-.2 1.41-.59l7.78-7.78 2.81-2.81c.8-.78.8-2.07 0-2.86zM5.41 20L4 18.59l7.72-7.72 1.47 1.35L5.41 20z\"/>\n",
              "  </svg>\n",
              "      </button>\n",
              "      \n",
              "  <style>\n",
              "    .colab-df-container {\n",
              "      display:flex;\n",
              "      flex-wrap:wrap;\n",
              "      gap: 12px;\n",
              "    }\n",
              "\n",
              "    .colab-df-convert {\n",
              "      background-color: #E8F0FE;\n",
              "      border: none;\n",
              "      border-radius: 50%;\n",
              "      cursor: pointer;\n",
              "      display: none;\n",
              "      fill: #1967D2;\n",
              "      height: 32px;\n",
              "      padding: 0 0 0 0;\n",
              "      width: 32px;\n",
              "    }\n",
              "\n",
              "    .colab-df-convert:hover {\n",
              "      background-color: #E2EBFA;\n",
              "      box-shadow: 0px 1px 2px rgba(60, 64, 67, 0.3), 0px 1px 3px 1px rgba(60, 64, 67, 0.15);\n",
              "      fill: #174EA6;\n",
              "    }\n",
              "\n",
              "    [theme=dark] .colab-df-convert {\n",
              "      background-color: #3B4455;\n",
              "      fill: #D2E3FC;\n",
              "    }\n",
              "\n",
              "    [theme=dark] .colab-df-convert:hover {\n",
              "      background-color: #434B5C;\n",
              "      box-shadow: 0px 1px 3px 1px rgba(0, 0, 0, 0.15);\n",
              "      filter: drop-shadow(0px 1px 2px rgba(0, 0, 0, 0.3));\n",
              "      fill: #FFFFFF;\n",
              "    }\n",
              "  </style>\n",
              "\n",
              "      <script>\n",
              "        const buttonEl =\n",
              "          document.querySelector('#df-eb472a7c-6c60-4bc3-ba8a-293908ae1a3d button.colab-df-convert');\n",
              "        buttonEl.style.display =\n",
              "          google.colab.kernel.accessAllowed ? 'block' : 'none';\n",
              "\n",
              "        async function convertToInteractive(key) {\n",
              "          const element = document.querySelector('#df-eb472a7c-6c60-4bc3-ba8a-293908ae1a3d');\n",
              "          const dataTable =\n",
              "            await google.colab.kernel.invokeFunction('convertToInteractive',\n",
              "                                                     [key], {});\n",
              "          if (!dataTable) return;\n",
              "\n",
              "          const docLinkHtml = 'Like what you see? Visit the ' +\n",
              "            '<a target=\"_blank\" href=https://colab.research.google.com/notebooks/data_table.ipynb>data table notebook</a>'\n",
              "            + ' to learn more about interactive tables.';\n",
              "          element.innerHTML = '';\n",
              "          dataTable['output_type'] = 'display_data';\n",
              "          await google.colab.output.renderOutput(dataTable, element);\n",
              "          const docLink = document.createElement('div');\n",
              "          docLink.innerHTML = docLinkHtml;\n",
              "          element.appendChild(docLink);\n",
              "        }\n",
              "      </script>\n",
              "    </div>\n",
              "  </div>\n",
              "  "
            ]
          },
          "metadata": {},
          "execution_count": 10
        }
      ]
    },
    {
      "cell_type": "code",
      "source": [
        "predict='G3'\n",
        "x=np.array(data.drop([predict],1))\n",
        "y=np.array(data[predict])"
      ],
      "metadata": {
        "id": "GIOdPfHBQd2e"
      },
      "execution_count": null,
      "outputs": []
    },
    {
      "cell_type": "code",
      "source": [
        "x"
      ],
      "metadata": {
        "colab": {
          "base_uri": "https://localhost:8080/"
        },
        "id": "cqvy78utT1M3",
        "outputId": "aa5c47a9-b005-4382-a9c8-9869bc068933"
      },
      "execution_count": 13,
      "outputs": [
        {
          "output_type": "execute_result",
          "data": {
            "text/plain": [
              "array([[ 5,  6,  2,  0,  6],\n",
              "       [ 5,  5,  2,  0,  4],\n",
              "       [ 7,  8,  2,  3, 10],\n",
              "       ...,\n",
              "       [10,  8,  1,  3,  3],\n",
              "       [11, 12,  1,  0,  0],\n",
              "       [ 8,  9,  1,  0,  5]])"
            ]
          },
          "metadata": {},
          "execution_count": 13
        }
      ]
    },
    {
      "cell_type": "code",
      "source": [
        "y"
      ],
      "metadata": {
        "colab": {
          "base_uri": "https://localhost:8080/"
        },
        "id": "XVmRCH46UBWt",
        "outputId": "f0dea058-9115-49dd-b975-872bab9bbbcc"
      },
      "execution_count": 14,
      "outputs": [
        {
          "output_type": "execute_result",
          "data": {
            "text/plain": [
              "array([ 6,  6, 10, 15, 10, 15, 11,  6, 19, 15,  9, 12, 14, 11, 16, 14, 14,\n",
              "       10,  5, 10, 15, 15, 16, 12,  8,  8, 11, 15, 11, 11, 12, 17, 16, 12,\n",
              "       15,  6, 18, 15, 11, 13, 11, 12, 18, 11,  9,  6, 11, 20, 14,  7, 13,\n",
              "       13, 10, 11, 13, 10, 15, 15,  9, 16, 11, 11,  9,  9, 10, 15, 12,  6,\n",
              "        8, 16, 15, 10,  5, 14, 11, 10, 10, 11, 10,  5, 12, 11,  6, 15, 10,\n",
              "        8,  6, 14, 10,  7,  8, 18,  6, 10, 14, 10, 15, 10, 14,  8,  5, 17,\n",
              "       14,  6, 18, 11,  8, 18, 13, 16, 19, 10, 13, 19,  9, 16, 14, 13,  8,\n",
              "       13, 15, 15, 13, 13,  8, 12, 11,  9,  0, 18,  0,  0, 12, 11,  0,  0,\n",
              "        0,  0, 12, 15,  0,  9, 11, 13,  0, 11,  0, 11,  0, 10,  0, 14, 10,\n",
              "        0, 12,  8, 13, 10, 15, 12,  0,  7,  0, 10,  7, 12, 10, 16,  0, 14,\n",
              "        0, 16, 10,  0,  9,  9, 11,  6,  9, 11,  8, 12, 17,  8, 12, 11, 11,\n",
              "       15,  9, 10, 13,  9,  8, 10, 14, 15, 16, 10, 18, 10, 16, 10, 10,  6,\n",
              "       11,  9,  7, 13, 10,  7,  8, 13, 14,  8, 10, 15,  4,  8,  8, 10,  6,\n",
              "        0, 17, 13, 14,  7, 15, 12,  9, 12, 14, 11,  9, 13,  6, 10, 13, 12,\n",
              "       11,  0, 12, 12,  0, 12,  0, 18, 13,  8,  5, 15,  8, 10,  8,  8, 12,\n",
              "        8, 13, 11, 14,  0, 18,  8, 12,  9,  0, 17, 10, 11, 10,  0,  9, 14,\n",
              "       11, 14, 10, 12,  9,  9,  8, 10,  8, 10, 12, 10, 11, 11, 19, 12, 14,\n",
              "       15, 11, 15, 13, 18, 14, 11,  0,  8, 14, 16, 11, 10, 14, 18, 13, 12,\n",
              "       18,  8, 12, 10,  0, 13, 11, 11, 13, 11,  0,  9, 10, 11, 13,  9, 11,\n",
              "       15, 15, 11, 16, 10,  9, 14,  8, 14,  0,  0,  0, 15, 13,  0, 17, 10,\n",
              "       11,  0, 15,  0, 10, 14, 16,  9, 15, 13,  8, 13,  8,  8, 11,  9, 13,\n",
              "       11, 10, 16, 13, 12, 10, 15, 12, 10, 13,  0, 10, 11,  9, 12, 11,  5,\n",
              "       19, 10, 15, 10, 15, 10, 14,  7, 10,  0,  5, 10,  6,  0,  8,  0,  9,\n",
              "       16,  7, 10,  9])"
            ]
          },
          "metadata": {},
          "execution_count": 14
        }
      ]
    },
    {
      "cell_type": "code",
      "source": [
        "x_train,x_test,y_train,y_test=train_test_split(x,y,test_size=0.2,random_state=3)"
      ],
      "metadata": {
        "id": "lxV1h0PwUEC3"
      },
      "execution_count": 26,
      "outputs": []
    },
    {
      "cell_type": "code",
      "source": [
        "print(x.shape,x_train.shape,x_test.shape)"
      ],
      "metadata": {
        "colab": {
          "base_uri": "https://localhost:8080/"
        },
        "id": "koVhxd3dYMMn",
        "outputId": "764f6564-b620-44a9-d115-d591cedb0092"
      },
      "execution_count": 28,
      "outputs": [
        {
          "output_type": "stream",
          "name": "stdout",
          "text": [
            "(395, 5) (316, 5) (79, 5)\n"
          ]
        }
      ]
    },
    {
      "cell_type": "code",
      "source": [
        "linear =linear_model.LinearRegression()"
      ],
      "metadata": {
        "id": "I1hTdJgAZdh_"
      },
      "execution_count": 30,
      "outputs": []
    },
    {
      "cell_type": "code",
      "source": [
        "linear.fit(x_train,y_train)\n"
      ],
      "metadata": {
        "colab": {
          "base_uri": "https://localhost:8080/"
        },
        "id": "-rZk7g1XaCrB",
        "outputId": "830b605e-092a-4ac6-dba1-e270ced5e779"
      },
      "execution_count": 31,
      "outputs": [
        {
          "output_type": "execute_result",
          "data": {
            "text/plain": [
              "LinearRegression()"
            ]
          },
          "metadata": {},
          "execution_count": 31
        }
      ]
    },
    {
      "cell_type": "code",
      "source": [
        "acc=linear.score(x_test,y_test)\n",
        "print(acc)"
      ],
      "metadata": {
        "colab": {
          "base_uri": "https://localhost:8080/"
        },
        "id": "dkmGpNCsaT-Q",
        "outputId": "64aa7550-9c4f-4705-ce70-5db8da8a6403"
      },
      "execution_count": 32,
      "outputs": [
        {
          "output_type": "stream",
          "name": "stdout",
          "text": [
            "0.8336728758720898\n"
          ]
        }
      ]
    },
    {
      "cell_type": "code",
      "source": [
        "print('Coefficient:/n',linear.coef_)\n",
        "print('Intercept:/n',linear.intercept_)"
      ],
      "metadata": {
        "colab": {
          "base_uri": "https://localhost:8080/"
        },
        "id": "dgEENSiNaixw",
        "outputId": "a429830c-f2e5-4059-d35f-eb0b6912ad21"
      },
      "execution_count": 33,
      "outputs": [
        {
          "output_type": "stream",
          "name": "stdout",
          "text": [
            "Coefficient:/n [ 0.15029725  0.99493465 -0.07487549 -0.22912781  0.04352235]\n",
            "Intercept:/n -1.9436500438037214\n"
          ]
        }
      ]
    },
    {
      "cell_type": "code",
      "source": [
        "predictions=linear.predict(x_test)"
      ],
      "metadata": {
        "id": "sbaTMkXKc68y"
      },
      "execution_count": 34,
      "outputs": []
    },
    {
      "cell_type": "code",
      "source": [
        "for x in range(len(predictions)):\n",
        "  print(predictions[x],x_test[x],y_test[x]) "
      ],
      "metadata": {
        "colab": {
          "base_uri": "https://localhost:8080/"
        },
        "id": "BI9p_Evbe0yq",
        "outputId": "877ddd8a-6255-4a4a-e6c1-d65e907cb387"
      },
      "execution_count": 36,
      "outputs": [
        {
          "output_type": "stream",
          "name": "stdout",
          "text": [
            "8.36398332165135 [10  9  2  0  0] 9\n",
            "13.975806918910218 [13 14  3  0  6] 14\n",
            "14.039059472007729 [14 14  3  0  4] 14\n",
            "10.591194570139367 [11 11  2  0  2] 11\n",
            "3.629349663513242 [7 5 3 1 0] 0\n",
            "-1.9544227264601943 [5 0 1 3 0] 0\n",
            "8.538072709166252 [10  9  2  0  4] 11\n",
            "7.156045126081274 [9 8 4 0 2] 8\n",
            "7.845883961556664 [7 9 1 1 2] 8\n",
            "10.5790253706493 [11 11  1  0  0] 12\n",
            "11.811301965199512 [12 12  1  0  2] 14\n",
            "10.74149181699433 [12 11  2  0  2] 12\n",
            "11.13319293890286 [12 11  2  0 11] 11\n",
            "14.709607491575664 [13 15  3  0  0] 15\n",
            "7.3539266542561155 [ 8  8  4  0 10] 8\n",
            "-1.116195798621133 [7 0 3 0 0] 0\n",
            "16.30979306737447 [15 16  3  0  7] 15\n",
            "8.411567602971232 [8 9 2 0 8] 10\n",
            "8.213686074796389 [9 9 2 0 0] 10\n",
            "10.215724582162062 [ 9 11  3  0  2] 11\n",
            "14.93478023269801 [14 15  2  0  0] 15\n",
            "15.172122173310424 [15 15  2  0  2] 16\n",
            "14.188810460542491 [14 14  1  0  4] 14\n",
            "9.766957099437771 [ 7 10  2  1 25] 11\n",
            "8.636740344093575 [9 9 1 0 8] 10\n",
            "9.319457563151582 [ 8 10  2  0  6] 10\n",
            "15.714120542073914 [16 15  2  0 11] 15\n",
            "12.592686819184843 [10 13  1  0  4] 14\n",
            "8.408265662868004 [ 9  9  2  2 15] 9\n",
            "8.37615252114142 [10  9  3  0  2] 8\n",
            "9.47030106832674 [10 10  4  0  6] 11\n",
            "5.786565357357501 [ 7  6  1  0 18] 6\n",
            "16.45602837978828 [18 16  3  0  0] 16\n",
            "15.527861955068943 [16 15  1  0  5] 16\n",
            "9.608429115691635 [11 10  3  0  4] 11\n",
            "10.978833757606743 [13 11  2  0  4] 11\n",
            "9.382710116249093 [ 9 10  2  0  4] 10\n",
            "6.12866480811442 [7 7 1 0 3] 8\n",
            "-0.7407258106438273 [9 0 2 0 0] 0\n",
            "8.593764255535048 [10  9  3  0  7] 9\n",
            "16.3806066272007 [17 16  2  0  0] 17\n",
            "15.259166867067872 [15 15  2  0  4] 15\n",
            "8.234176275353102 [ 9  9  2  2 11] 9\n",
            "10.65444712323688 [12 11  2  0  0] 12\n",
            "7.642458816484837 [ 9  8  2  1 15] 8\n",
            "12.818952076947584 [13 13  4  0  4] 12\n",
            "11.369170616012605 [11 12  3  1  4] 11\n",
            "7.7050582432532835 [10  8  1  0  6] 11\n",
            "11.898346658956964 [12 12  1  0  4] 13\n",
            "13.824963413735057 [11 14  1  0  6] 14\n",
            "12.171649939719387 [12 12  2  0 12] 11\n",
            "2.555038190555571 [7 4 1 2 0] 0\n",
            "18.23234788771141 [16 18  3  0  2] 18\n",
            "16.328977015273058 [15 16  1  0  4] 15\n",
            "-1.9544227264601943 [5 0 1 3 0] 0\n",
            "10.639325109779447 [10 11  4  0 10] 11\n",
            "4.467244069049835 [ 6  5  1  0 14] 5\n",
            "8.561864849826193 [9 9 2 0 8] 9\n",
            "12.258694633476837 [12 12  2  0 14] 12\n",
            "12.025398023472185 [15 12  3  0  0] 14\n",
            "8.449000074632774 [ 8  8  1  0 30] 8\n",
            "9.295665422491641 [ 9 10  2  0  2] 10\n",
            "12.215172286598111 [12 12  2  0 13] 13\n",
            "18.59619493451884 [19 18  3  0  0] 19\n",
            "-1.8755921657605228 [4 0 1 2 0] 0\n",
            "14.731461955635048 [15 14  2  1 20] 13\n",
            "19.284445219529537 [17 18  2  0 21] 18\n",
            "8.214232333116588 [10  9  4  0  0] 0\n",
            "6.317818198242213 [7 8 2 3 2] 9\n",
            "-0.8229651794555906 [12  0  3  2  0] 0\n",
            "5.3635110880603145 [ 7  6  2  0 10] 6\n",
            "9.13319897614661 [ 8 10  1  0  0] 11\n",
            "6.989623613303953 [9 8 2 1 0] 0\n",
            "12.155418805788162 [14 12  1  0  3] 12\n",
            "7.36904866771355 [10  8  2  0  0] 9\n",
            "8.908026235024266 [ 7 10  2  0  0] 11\n",
            "13.849291261770896 [11 12  2  0 54] 11\n",
            "7.068454174003625 [8 8 2 0 0] 9\n",
            "7.984558267241756 [9 9 2 1 0] 0\n"
          ]
        }
      ]
    },
    {
      "cell_type": "code",
      "source": [],
      "metadata": {
        "id": "Fw-L63tafcI6"
      },
      "execution_count": null,
      "outputs": []
    }
  ]
}